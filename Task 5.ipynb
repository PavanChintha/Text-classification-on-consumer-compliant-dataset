{
  "metadata": {
    "kernelspec": {
      "language": "python",
      "display_name": "Python 3",
      "name": "python3"
    },
    "language_info": {
      "name": "python",
      "version": "3.7.12",
      "mimetype": "text/x-python",
      "codemirror_mode": {
        "name": "ipython",
        "version": 3
      },
      "pygments_lexer": "ipython3",
      "nbconvert_exporter": "python",
      "file_extension": ".py"
    },
    "colab": {
      "provenance": []
    }
  },
  "nbformat_minor": 0,
  "nbformat": 4,
  "cells": [
    {
      "cell_type": "markdown",
      "source": [
        "Name : Chintha Pavan\n",
        "\n",
        "Roll No : CB.EN.U4CSE20312"
      ],
      "metadata": {
        "id": "F5RaUZ0iXBaB"
      }
    },
    {
      "cell_type": "code",
      "source": [
        "from sklearn.feature_extraction.text import TfidfVectorizer\n",
        "from sklearn.model_selection import train_test_split, cross_val_score\n",
        "from sklearn.preprocessing import LabelEncoder\n",
        "from sklearn.ensemble import RandomForestClassifier\n",
        "import pandas as pd"
      ],
      "metadata": {
        "ExecuteTime": {
          "end_time": "2022-08-19T12:08:02.203534Z",
          "start_time": "2022-08-19T12:07:58.583922Z"
        },
        "id": "KKU3Av-XXBaD",
        "execution": {
          "iopub.status.busy": "2022-10-16T03:05:19.170324Z",
          "iopub.execute_input": "2022-10-16T03:05:19.170701Z",
          "iopub.status.idle": "2022-10-16T03:05:20.024139Z",
          "shell.execute_reply.started": "2022-10-16T03:05:19.170668Z",
          "shell.execute_reply": "2022-10-16T03:05:20.022951Z"
        },
        "trusted": true
      },
      "execution_count": null,
      "outputs": []
    },
    {
      "cell_type": "code",
      "source": [
        "df_full = pd.read_csv('../input/consumercomplaintsdata/Consumer_Complaints.csv')\n",
        "df_full.head()"
      ],
      "metadata": {
        "ExecuteTime": {
          "end_time": "2022-08-19T12:08:02.219538Z",
          "start_time": "2022-08-19T12:08:02.204536Z"
        },
        "execution": {
          "iopub.status.busy": "2022-10-16T03:05:20.025729Z",
          "iopub.execute_input": "2022-10-16T03:05:20.026819Z",
          "iopub.status.idle": "2022-10-16T03:05:31.227877Z",
          "shell.execute_reply.started": "2022-10-16T03:05:20.026774Z",
          "shell.execute_reply": "2022-10-16T03:05:31.226761Z"
        },
        "trusted": true,
        "id": "IAwd9TMOEI1F",
        "outputId": "55db30d2-0b42-4686-c956-f8edd7557004"
      },
      "execution_count": null,
      "outputs": [
        {
          "execution_count": 3,
          "output_type": "execute_result",
          "data": {
            "text/plain": "  Date received           Product     Sub-product  \\\n0     3/12/2014          Mortgage  Other mortgage   \n1     10/1/2016  Credit reporting             NaN   \n2    10/17/2016     Consumer Loan    Vehicle loan   \n3      6/8/2014       Credit card             NaN   \n4     9/13/2014   Debt collection     Credit card   \n\n                                      Issue                   Sub-issue  \\\n0  Loan modification,collection,foreclosure                         NaN   \n1    Incorrect information on credit report              Account status   \n2                Managing the loan or lease                         NaN   \n3                                Bankruptcy                         NaN   \n4                     Communication tactics  Frequent or repeated calls   \n\n                        Consumer complaint narrative  \\\n0                                                NaN   \n1  I have outdated information on my credit repor...   \n2  I purchased a new car on XXXX XXXX. The car de...   \n3                                                NaN   \n4                                                NaN   \n\n                             Company public response  \\\n0                                                NaN   \n1  Company has responded to the consumer and the ...   \n2                                                NaN   \n3                                                NaN   \n4                                                NaN   \n\n                                  Company State ZIP code            Tags  \\\n0                    M&T BANK CORPORATION    MI    48382             NaN   \n1  TRANSUNION INTERMEDIATE HOLDINGS, INC.    AL    352XX             NaN   \n2          CITIZENS FINANCIAL GROUP, INC.    PA    177XX  Older American   \n3                AMERICAN EXPRESS COMPANY    ID    83854  Older American   \n4                          CITIBANK, N.A.    VA    23233             NaN   \n\n  Consumer consent provided? Submitted via Date sent to company  \\\n0                        NaN      Referral            3/17/2014   \n1           Consent provided           Web            10/5/2016   \n2           Consent provided           Web           10/20/2016   \n3                        NaN           Web            6/10/2014   \n4                        NaN           Web            9/13/2014   \n\n  Company response to consumer Timely response? Consumer disputed?  \\\n0      Closed with explanation              Yes                 No   \n1      Closed with explanation              Yes                 No   \n2      Closed with explanation              Yes                 No   \n3      Closed with explanation              Yes                Yes   \n4      Closed with explanation              Yes                Yes   \n\n   Complaint ID  \n0        759217  \n1       2141773  \n2       2163100  \n3        885638  \n4       1027760  ",
            "text/html": "<div>\n<style scoped>\n    .dataframe tbody tr th:only-of-type {\n        vertical-align: middle;\n    }\n\n    .dataframe tbody tr th {\n        vertical-align: top;\n    }\n\n    .dataframe thead th {\n        text-align: right;\n    }\n</style>\n<table border=\"1\" class=\"dataframe\">\n  <thead>\n    <tr style=\"text-align: right;\">\n      <th></th>\n      <th>Date received</th>\n      <th>Product</th>\n      <th>Sub-product</th>\n      <th>Issue</th>\n      <th>Sub-issue</th>\n      <th>Consumer complaint narrative</th>\n      <th>Company public response</th>\n      <th>Company</th>\n      <th>State</th>\n      <th>ZIP code</th>\n      <th>Tags</th>\n      <th>Consumer consent provided?</th>\n      <th>Submitted via</th>\n      <th>Date sent to company</th>\n      <th>Company response to consumer</th>\n      <th>Timely response?</th>\n      <th>Consumer disputed?</th>\n      <th>Complaint ID</th>\n    </tr>\n  </thead>\n  <tbody>\n    <tr>\n      <th>0</th>\n      <td>3/12/2014</td>\n      <td>Mortgage</td>\n      <td>Other mortgage</td>\n      <td>Loan modification,collection,foreclosure</td>\n      <td>NaN</td>\n      <td>NaN</td>\n      <td>NaN</td>\n      <td>M&amp;T BANK CORPORATION</td>\n      <td>MI</td>\n      <td>48382</td>\n      <td>NaN</td>\n      <td>NaN</td>\n      <td>Referral</td>\n      <td>3/17/2014</td>\n      <td>Closed with explanation</td>\n      <td>Yes</td>\n      <td>No</td>\n      <td>759217</td>\n    </tr>\n    <tr>\n      <th>1</th>\n      <td>10/1/2016</td>\n      <td>Credit reporting</td>\n      <td>NaN</td>\n      <td>Incorrect information on credit report</td>\n      <td>Account status</td>\n      <td>I have outdated information on my credit repor...</td>\n      <td>Company has responded to the consumer and the ...</td>\n      <td>TRANSUNION INTERMEDIATE HOLDINGS, INC.</td>\n      <td>AL</td>\n      <td>352XX</td>\n      <td>NaN</td>\n      <td>Consent provided</td>\n      <td>Web</td>\n      <td>10/5/2016</td>\n      <td>Closed with explanation</td>\n      <td>Yes</td>\n      <td>No</td>\n      <td>2141773</td>\n    </tr>\n    <tr>\n      <th>2</th>\n      <td>10/17/2016</td>\n      <td>Consumer Loan</td>\n      <td>Vehicle loan</td>\n      <td>Managing the loan or lease</td>\n      <td>NaN</td>\n      <td>I purchased a new car on XXXX XXXX. The car de...</td>\n      <td>NaN</td>\n      <td>CITIZENS FINANCIAL GROUP, INC.</td>\n      <td>PA</td>\n      <td>177XX</td>\n      <td>Older American</td>\n      <td>Consent provided</td>\n      <td>Web</td>\n      <td>10/20/2016</td>\n      <td>Closed with explanation</td>\n      <td>Yes</td>\n      <td>No</td>\n      <td>2163100</td>\n    </tr>\n    <tr>\n      <th>3</th>\n      <td>6/8/2014</td>\n      <td>Credit card</td>\n      <td>NaN</td>\n      <td>Bankruptcy</td>\n      <td>NaN</td>\n      <td>NaN</td>\n      <td>NaN</td>\n      <td>AMERICAN EXPRESS COMPANY</td>\n      <td>ID</td>\n      <td>83854</td>\n      <td>Older American</td>\n      <td>NaN</td>\n      <td>Web</td>\n      <td>6/10/2014</td>\n      <td>Closed with explanation</td>\n      <td>Yes</td>\n      <td>Yes</td>\n      <td>885638</td>\n    </tr>\n    <tr>\n      <th>4</th>\n      <td>9/13/2014</td>\n      <td>Debt collection</td>\n      <td>Credit card</td>\n      <td>Communication tactics</td>\n      <td>Frequent or repeated calls</td>\n      <td>NaN</td>\n      <td>NaN</td>\n      <td>CITIBANK, N.A.</td>\n      <td>VA</td>\n      <td>23233</td>\n      <td>NaN</td>\n      <td>NaN</td>\n      <td>Web</td>\n      <td>9/13/2014</td>\n      <td>Closed with explanation</td>\n      <td>Yes</td>\n      <td>Yes</td>\n      <td>1027760</td>\n    </tr>\n  </tbody>\n</table>\n</div>"
          },
          "metadata": {}
        }
      ]
    },
    {
      "cell_type": "code",
      "source": [
        "# How many unique financial products (the second column) are we talking about here\n",
        "df_full['Product'].nunique()"
      ],
      "metadata": {
        "execution": {
          "iopub.status.busy": "2022-10-16T03:05:31.230059Z",
          "iopub.execute_input": "2022-10-16T03:05:31.230428Z",
          "iopub.status.idle": "2022-10-16T03:05:31.335432Z",
          "shell.execute_reply.started": "2022-10-16T03:05:31.230396Z",
          "shell.execute_reply": "2022-10-16T03:05:31.334665Z"
        },
        "trusted": true,
        "id": "JANRzjXIEI1H",
        "outputId": "e09801cf-6bc0-4f46-99f1-118a9adbe48b"
      },
      "execution_count": null,
      "outputs": [
        {
          "execution_count": 4,
          "output_type": "execute_result",
          "data": {
            "text/plain": "18"
          },
          "metadata": {}
        }
      ]
    },
    {
      "cell_type": "code",
      "source": [
        "# The shape of the full, unmodified data\n",
        "print('Shape of data',df_full.shape)"
      ],
      "metadata": {
        "ExecuteTime": {
          "end_time": "2022-08-19T12:08:03.920930Z",
          "start_time": "2022-08-19T12:08:03.911930Z"
        },
        "execution": {
          "iopub.status.busy": "2022-10-16T03:05:31.336739Z",
          "iopub.execute_input": "2022-10-16T03:05:31.337670Z",
          "iopub.status.idle": "2022-10-16T03:05:31.342721Z",
          "shell.execute_reply.started": "2022-10-16T03:05:31.337637Z",
          "shell.execute_reply": "2022-10-16T03:05:31.341869Z"
        },
        "trusted": true,
        "id": "AF_f7pApEI1J",
        "outputId": "5e218572-e1b3-4c51-872e-a415002ad1e9"
      },
      "execution_count": null,
      "outputs": [
        {
          "name": "stdout",
          "text": "Shape of data (903983, 18)\n",
          "output_type": "stream"
        }
      ]
    },
    {
      "cell_type": "code",
      "source": [
        "# The idea is to demonstrate a workflow, so we will work with a smaller portion of the data\n",
        "\n",
        "# First, we retain only the columns relevant to our present purpose\n",
        "\n",
        "df=df_full[['Consumer complaint narrative','Product']]\n",
        "print('Shape of data',df.shape)"
      ],
      "metadata": {
        "execution": {
          "iopub.status.busy": "2022-10-16T03:05:31.344085Z",
          "iopub.execute_input": "2022-10-16T03:05:31.344660Z",
          "iopub.status.idle": "2022-10-16T03:05:31.390968Z",
          "shell.execute_reply.started": "2022-10-16T03:05:31.344628Z",
          "shell.execute_reply": "2022-10-16T03:05:31.389967Z"
        },
        "trusted": true,
        "id": "EViVTqc3EI1K",
        "outputId": "76ac6674-cf64-4fc2-ea90-fabb2a79c4f9"
      },
      "execution_count": null,
      "outputs": [
        {
          "name": "stdout",
          "text": "Shape of data (903983, 2)\n",
          "output_type": "stream"
        }
      ]
    },
    {
      "cell_type": "code",
      "source": [
        "# Next, we get rid of nulls\n",
        "print('Before dropping the nulls')\n",
        "display('Null count', df.isna().sum())\n",
        "print('Total rows of data', len(df))\n",
        "df.dropna(inplace=True)\n",
        "print('='*80)\n",
        "print('After dropping the nulls')\n",
        "display('Null count', df.isna().sum())\n",
        "print('Total rows of data', len(df))"
      ],
      "metadata": {
        "execution": {
          "iopub.status.busy": "2022-10-16T03:05:31.392262Z",
          "iopub.execute_input": "2022-10-16T03:05:31.392637Z",
          "iopub.status.idle": "2022-10-16T03:05:31.722548Z",
          "shell.execute_reply.started": "2022-10-16T03:05:31.392579Z",
          "shell.execute_reply": "2022-10-16T03:05:31.721321Z"
        },
        "trusted": true,
        "id": "w85-6gi6EI1K",
        "outputId": "1d57d7f5-082f-421c-c207-465b4095b2f5"
      },
      "execution_count": null,
      "outputs": [
        {
          "name": "stdout",
          "text": "Before dropping the nulls\n",
          "output_type": "stream"
        },
        {
          "output_type": "display_data",
          "data": {
            "text/plain": "'Null count'"
          },
          "metadata": {}
        },
        {
          "output_type": "display_data",
          "data": {
            "text/plain": "Consumer complaint narrative    704013\nProduct                              0\ndtype: int64"
          },
          "metadata": {}
        },
        {
          "name": "stdout",
          "text": "Total rows of data 903983\n================================================================================\nAfter dropping the nulls\n",
          "output_type": "stream"
        },
        {
          "name": "stderr",
          "text": "/opt/conda/lib/python3.7/site-packages/pandas/util/_decorators.py:311: SettingWithCopyWarning: \nA value is trying to be set on a copy of a slice from a DataFrame\n\nSee the caveats in the documentation: https://pandas.pydata.org/pandas-docs/stable/user_guide/indexing.html#returning-a-view-versus-a-copy\n  return func(*args, **kwargs)\n",
          "output_type": "stream"
        },
        {
          "output_type": "display_data",
          "data": {
            "text/plain": "'Null count'"
          },
          "metadata": {}
        },
        {
          "output_type": "display_data",
          "data": {
            "text/plain": "Consumer complaint narrative    0\nProduct                         0\ndtype: int64"
          },
          "metadata": {}
        },
        {
          "name": "stdout",
          "text": "Total rows of data 199970\n",
          "output_type": "stream"
        }
      ]
    },
    {
      "cell_type": "code",
      "source": [
        "df=df.head(1000).reset_index(drop=True)\n",
        "display(df.head())\n",
        "display(df.tail())"
      ],
      "metadata": {
        "execution": {
          "iopub.status.busy": "2022-10-16T03:05:31.724247Z",
          "iopub.execute_input": "2022-10-16T03:05:31.724606Z",
          "iopub.status.idle": "2022-10-16T03:05:31.747560Z",
          "shell.execute_reply.started": "2022-10-16T03:05:31.724557Z",
          "shell.execute_reply": "2022-10-16T03:05:31.746688Z"
        },
        "trusted": true,
        "id": "hHf9JIB4EI1L",
        "outputId": "a245bee3-22a3-4f97-b22d-7363a87d25a6"
      },
      "execution_count": null,
      "outputs": [
        {
          "output_type": "display_data",
          "data": {
            "text/plain": "                        Consumer complaint narrative           Product\n0  I have outdated information on my credit repor...  Credit reporting\n1  I purchased a new car on XXXX XXXX. The car de...     Consumer Loan\n2  An account on my credit report has a mistaken ...  Credit reporting\n3  This company refuses to provide me verificatio...   Debt collection\n4  This complaint is in regards to Square Two Fin...   Debt collection",
            "text/html": "<div>\n<style scoped>\n    .dataframe tbody tr th:only-of-type {\n        vertical-align: middle;\n    }\n\n    .dataframe tbody tr th {\n        vertical-align: top;\n    }\n\n    .dataframe thead th {\n        text-align: right;\n    }\n</style>\n<table border=\"1\" class=\"dataframe\">\n  <thead>\n    <tr style=\"text-align: right;\">\n      <th></th>\n      <th>Consumer complaint narrative</th>\n      <th>Product</th>\n    </tr>\n  </thead>\n  <tbody>\n    <tr>\n      <th>0</th>\n      <td>I have outdated information on my credit repor...</td>\n      <td>Credit reporting</td>\n    </tr>\n    <tr>\n      <th>1</th>\n      <td>I purchased a new car on XXXX XXXX. The car de...</td>\n      <td>Consumer Loan</td>\n    </tr>\n    <tr>\n      <th>2</th>\n      <td>An account on my credit report has a mistaken ...</td>\n      <td>Credit reporting</td>\n    </tr>\n    <tr>\n      <th>3</th>\n      <td>This company refuses to provide me verificatio...</td>\n      <td>Debt collection</td>\n    </tr>\n    <tr>\n      <th>4</th>\n      <td>This complaint is in regards to Square Two Fin...</td>\n      <td>Debt collection</td>\n    </tr>\n  </tbody>\n</table>\n</div>"
          },
          "metadata": {}
        },
        {
          "output_type": "display_data",
          "data": {
            "text/plain": "                          Consumer complaint narrative           Product\n995  On or around XX/XX/XXXX I was first contacted ...   Debt collection\n996  I am one of the many borrowers that has my loa...      Student loan\n997  I refinanced i year ago and the lender failed ...          Mortgage\n998  XXXX account # XXXX I have insurance, I paid m...  Credit reporting\n999  I have XXXX hard inquiries from Safe Rent ( XX...          Mortgage",
            "text/html": "<div>\n<style scoped>\n    .dataframe tbody tr th:only-of-type {\n        vertical-align: middle;\n    }\n\n    .dataframe tbody tr th {\n        vertical-align: top;\n    }\n\n    .dataframe thead th {\n        text-align: right;\n    }\n</style>\n<table border=\"1\" class=\"dataframe\">\n  <thead>\n    <tr style=\"text-align: right;\">\n      <th></th>\n      <th>Consumer complaint narrative</th>\n      <th>Product</th>\n    </tr>\n  </thead>\n  <tbody>\n    <tr>\n      <th>995</th>\n      <td>On or around XX/XX/XXXX I was first contacted ...</td>\n      <td>Debt collection</td>\n    </tr>\n    <tr>\n      <th>996</th>\n      <td>I am one of the many borrowers that has my loa...</td>\n      <td>Student loan</td>\n    </tr>\n    <tr>\n      <th>997</th>\n      <td>I refinanced i year ago and the lender failed ...</td>\n      <td>Mortgage</td>\n    </tr>\n    <tr>\n      <th>998</th>\n      <td>XXXX account # XXXX I have insurance, I paid m...</td>\n      <td>Credit reporting</td>\n    </tr>\n    <tr>\n      <th>999</th>\n      <td>I have XXXX hard inquiries from Safe Rent ( XX...</td>\n      <td>Mortgage</td>\n    </tr>\n  </tbody>\n</table>\n</div>"
          },
          "metadata": {}
        }
      ]
    },
    {
      "cell_type": "code",
      "source": [
        "print('Shape of data',df.shape)"
      ],
      "metadata": {
        "execution": {
          "iopub.status.busy": "2022-10-16T03:05:31.749270Z",
          "iopub.execute_input": "2022-10-16T03:05:31.749917Z",
          "iopub.status.idle": "2022-10-16T03:05:31.756143Z",
          "shell.execute_reply.started": "2022-10-16T03:05:31.749870Z",
          "shell.execute_reply": "2022-10-16T03:05:31.754951Z"
        },
        "trusted": true,
        "id": "2BtX6ru0EI1N",
        "outputId": "04dae1ba-cbb7-4e57-e969-d2e0b25e5ace"
      },
      "execution_count": null,
      "outputs": [
        {
          "name": "stdout",
          "text": "Shape of data (1000, 2)\n",
          "output_type": "stream"
        }
      ]
    },
    {
      "cell_type": "code",
      "source": [
        "df.tail()"
      ],
      "metadata": {
        "execution": {
          "iopub.status.busy": "2022-10-16T03:05:31.762300Z",
          "iopub.execute_input": "2022-10-16T03:05:31.763138Z",
          "iopub.status.idle": "2022-10-16T03:05:31.774494Z",
          "shell.execute_reply.started": "2022-10-16T03:05:31.763099Z",
          "shell.execute_reply": "2022-10-16T03:05:31.773293Z"
        },
        "trusted": true,
        "id": "ADKgwyj8EI1O",
        "outputId": "cb532fbd-c5cf-400a-b259-46d3aca105cb"
      },
      "execution_count": null,
      "outputs": [
        {
          "execution_count": 10,
          "output_type": "execute_result",
          "data": {
            "text/plain": "                          Consumer complaint narrative           Product\n995  On or around XX/XX/XXXX I was first contacted ...   Debt collection\n996  I am one of the many borrowers that has my loa...      Student loan\n997  I refinanced i year ago and the lender failed ...          Mortgage\n998  XXXX account # XXXX I have insurance, I paid m...  Credit reporting\n999  I have XXXX hard inquiries from Safe Rent ( XX...          Mortgage",
            "text/html": "<div>\n<style scoped>\n    .dataframe tbody tr th:only-of-type {\n        vertical-align: middle;\n    }\n\n    .dataframe tbody tr th {\n        vertical-align: top;\n    }\n\n    .dataframe thead th {\n        text-align: right;\n    }\n</style>\n<table border=\"1\" class=\"dataframe\">\n  <thead>\n    <tr style=\"text-align: right;\">\n      <th></th>\n      <th>Consumer complaint narrative</th>\n      <th>Product</th>\n    </tr>\n  </thead>\n  <tbody>\n    <tr>\n      <th>995</th>\n      <td>On or around XX/XX/XXXX I was first contacted ...</td>\n      <td>Debt collection</td>\n    </tr>\n    <tr>\n      <th>996</th>\n      <td>I am one of the many borrowers that has my loa...</td>\n      <td>Student loan</td>\n    </tr>\n    <tr>\n      <th>997</th>\n      <td>I refinanced i year ago and the lender failed ...</td>\n      <td>Mortgage</td>\n    </tr>\n    <tr>\n      <th>998</th>\n      <td>XXXX account # XXXX I have insurance, I paid m...</td>\n      <td>Credit reporting</td>\n    </tr>\n    <tr>\n      <th>999</th>\n      <td>I have XXXX hard inquiries from Safe Rent ( XX...</td>\n      <td>Mortgage</td>\n    </tr>\n  </tbody>\n</table>\n</div>"
          },
          "metadata": {}
        }
      ]
    },
    {
      "cell_type": "code",
      "source": [
        "# Kinds of products on which complaints are generated\n",
        "df['Product'].nunique()"
      ],
      "metadata": {
        "ExecuteTime": {
          "end_time": "2022-08-19T12:08:04.375937Z",
          "start_time": "2022-08-19T12:08:04.359929Z"
        },
        "execution": {
          "iopub.status.busy": "2022-10-16T03:05:31.776432Z",
          "iopub.execute_input": "2022-10-16T03:05:31.777380Z",
          "iopub.status.idle": "2022-10-16T03:05:31.789786Z",
          "shell.execute_reply.started": "2022-10-16T03:05:31.777326Z",
          "shell.execute_reply": "2022-10-16T03:05:31.788649Z"
        },
        "trusted": true,
        "id": "Yaa6OokSEI1P",
        "outputId": "f89fe960-4ee4-4a96-a712-64055f67c645"
      },
      "execution_count": null,
      "outputs": [
        {
          "execution_count": 11,
          "output_type": "execute_result",
          "data": {
            "text/plain": "11"
          },
          "metadata": {}
        }
      ]
    },
    {
      "cell_type": "markdown",
      "source": [
        "### Typical Complaint"
      ],
      "metadata": {
        "id": "COwaeZO2XBaG"
      }
    },
    {
      "cell_type": "code",
      "source": [
        "df['Consumer complaint narrative'][0]"
      ],
      "metadata": {
        "ExecuteTime": {
          "end_time": "2022-08-19T12:08:40.789299Z",
          "start_time": "2022-08-19T12:08:40.777297Z"
        },
        "id": "jw_3jqF5XBaH",
        "outputId": "c3001684-0236-447d-ff64-18f382d01112",
        "execution": {
          "iopub.status.busy": "2022-10-16T03:05:31.791680Z",
          "iopub.execute_input": "2022-10-16T03:05:31.792127Z",
          "iopub.status.idle": "2022-10-16T03:05:31.803041Z",
          "shell.execute_reply.started": "2022-10-16T03:05:31.792092Z",
          "shell.execute_reply": "2022-10-16T03:05:31.801986Z"
        },
        "trusted": true
      },
      "execution_count": null,
      "outputs": [
        {
          "execution_count": 12,
          "output_type": "execute_result",
          "data": {
            "text/plain": "'I have outdated information on my credit report that I have previously disputed that has yet to be removed this information is more then seven years old and does not meet credit reporting requirements'"
          },
          "metadata": {}
        }
      ]
    },
    {
      "cell_type": "markdown",
      "source": [
        "### Categories of products - the classes for which we will predict"
      ],
      "metadata": {
        "id": "4QXHqmFxXBaJ"
      }
    },
    {
      "cell_type": "code",
      "source": [
        "list(df.Product.unique())"
      ],
      "metadata": {
        "ExecuteTime": {
          "end_time": "2022-08-19T12:08:43.886990Z",
          "start_time": "2022-08-19T12:08:43.879989Z"
        },
        "id": "5xIzAd7SXBaK",
        "outputId": "a7bc8e90-6365-4c82-c245-6f7d8d422630",
        "execution": {
          "iopub.status.busy": "2022-10-16T03:05:31.804106Z",
          "iopub.execute_input": "2022-10-16T03:05:31.804469Z",
          "iopub.status.idle": "2022-10-16T03:05:31.818519Z",
          "shell.execute_reply.started": "2022-10-16T03:05:31.804432Z",
          "shell.execute_reply": "2022-10-16T03:05:31.817612Z"
        },
        "trusted": true
      },
      "execution_count": null,
      "outputs": [
        {
          "execution_count": 13,
          "output_type": "execute_result",
          "data": {
            "text/plain": "['Credit reporting',\n 'Consumer Loan',\n 'Debt collection',\n 'Mortgage',\n 'Credit card',\n 'Other financial service',\n 'Bank account or service',\n 'Student loan',\n 'Money transfers',\n 'Payday loan',\n 'Prepaid card']"
          },
          "metadata": {}
        }
      ]
    },
    {
      "cell_type": "code",
      "source": [
        "df['Product'].value_counts()"
      ],
      "metadata": {
        "ExecuteTime": {
          "end_time": "2022-08-19T12:10:47.108225Z",
          "start_time": "2022-08-19T12:10:47.096223Z"
        },
        "scrolled": true,
        "execution": {
          "iopub.status.busy": "2022-10-16T03:05:31.819911Z",
          "iopub.execute_input": "2022-10-16T03:05:31.820756Z",
          "iopub.status.idle": "2022-10-16T03:05:31.834059Z",
          "shell.execute_reply.started": "2022-10-16T03:05:31.820722Z",
          "shell.execute_reply": "2022-10-16T03:05:31.832999Z"
        },
        "trusted": true,
        "id": "SXi0FnyCEI1T",
        "outputId": "2df91707-1c93-404d-9655-5b8962c9f8c3"
      },
      "execution_count": null,
      "outputs": [
        {
          "execution_count": 14,
          "output_type": "execute_result",
          "data": {
            "text/plain": "Debt collection            253\nMortgage                   194\nCredit reporting           192\nCredit card                124\nBank account or service     94\nConsumer Loan               56\nStudent loan                56\nPayday loan                 13\nMoney transfers              9\nPrepaid card                 7\nOther financial service      2\nName: Product, dtype: int64"
          },
          "metadata": {}
        }
      ]
    },
    {
      "cell_type": "markdown",
      "source": [
        "**Q: If a certain classes are very underrepresented, can you suggest a possible solution?**"
      ],
      "metadata": {
        "id": "Eo-p6X4eEI1U"
      }
    },
    {
      "cell_type": "markdown",
      "source": [
        "### Train-test split\n",
        "25% of the total data is used as validation data while the remaining as training."
      ],
      "metadata": {
        "id": "cwS4qyhGXBaM"
      }
    },
    {
      "cell_type": "code",
      "source": [
        "X_train, X_test, y_train, y_test = train_test_split(\n",
        "                                            df['Consumer complaint narrative'], df['Product'],\n",
        "                                            test_size=0.25, random_state=0, stratify=df['Product'])\n",
        "print(f'Training utterances: {len(X_train)} of shape {X_train.shape}')\n",
        "print(f'Validation utterances: {len(X_test)} of shape {X_test.shape}')\n",
        "\n",
        "# NOTE: The features occupy a single column"
      ],
      "metadata": {
        "ExecuteTime": {
          "end_time": "2022-08-19T12:15:17.920835Z",
          "start_time": "2022-08-19T12:15:17.904833Z"
        },
        "id": "RcHsVb4GXBaN",
        "outputId": "f3ba9442-057d-467a-f518-e6ff0ddc70b9",
        "execution": {
          "iopub.status.busy": "2022-10-16T03:05:31.835457Z",
          "iopub.execute_input": "2022-10-16T03:05:31.836400Z",
          "iopub.status.idle": "2022-10-16T03:05:31.853837Z",
          "shell.execute_reply.started": "2022-10-16T03:05:31.836365Z",
          "shell.execute_reply": "2022-10-16T03:05:31.852806Z"
        },
        "trusted": true
      },
      "execution_count": null,
      "outputs": [
        {
          "name": "stdout",
          "text": "Training utterances: 750 of shape (750,)\nValidation utterances: 250 of shape (250,)\n",
          "output_type": "stream"
        }
      ]
    },
    {
      "cell_type": "code",
      "source": [
        "display(y_train.value_counts())"
      ],
      "metadata": {
        "ExecuteTime": {
          "end_time": "2022-08-19T12:15:18.276198Z",
          "start_time": "2022-08-19T12:15:18.264196Z"
        },
        "execution": {
          "iopub.status.busy": "2022-10-16T03:05:31.855493Z",
          "iopub.execute_input": "2022-10-16T03:05:31.856546Z",
          "iopub.status.idle": "2022-10-16T03:05:31.868879Z",
          "shell.execute_reply.started": "2022-10-16T03:05:31.856501Z",
          "shell.execute_reply": "2022-10-16T03:05:31.867955Z"
        },
        "trusted": true,
        "id": "csdbbnw5EI1V",
        "outputId": "0ee413b9-7ce5-4a4b-f874-76f21ad8f3b4"
      },
      "execution_count": null,
      "outputs": [
        {
          "output_type": "display_data",
          "data": {
            "text/plain": "Debt collection            190\nMortgage                   145\nCredit reporting           144\nCredit card                 93\nBank account or service     70\nConsumer Loan               42\nStudent loan                42\nPayday loan                 10\nMoney transfers              7\nPrepaid card                 5\nOther financial service      2\nName: Product, dtype: int64"
          },
          "metadata": {}
        }
      ]
    },
    {
      "cell_type": "code",
      "source": [
        "display(y_test.value_counts())"
      ],
      "metadata": {
        "ExecuteTime": {
          "end_time": "2022-08-19T12:15:18.655548Z",
          "start_time": "2022-08-19T12:15:18.648547Z"
        },
        "execution": {
          "iopub.status.busy": "2022-10-16T03:05:31.870291Z",
          "iopub.execute_input": "2022-10-16T03:05:31.870976Z",
          "iopub.status.idle": "2022-10-16T03:05:31.881565Z",
          "shell.execute_reply.started": "2022-10-16T03:05:31.870942Z",
          "shell.execute_reply": "2022-10-16T03:05:31.880186Z"
        },
        "trusted": true,
        "id": "TA62elX_EI1W",
        "outputId": "c282e323-72f5-4726-a8cd-716e63a7921e"
      },
      "execution_count": null,
      "outputs": [
        {
          "output_type": "display_data",
          "data": {
            "text/plain": "Debt collection            63\nMortgage                   49\nCredit reporting           48\nCredit card                31\nBank account or service    24\nConsumer Loan              14\nStudent loan               14\nPayday loan                 3\nMoney transfers             2\nPrepaid card                2\nName: Product, dtype: int64"
          },
          "metadata": {}
        }
      ]
    },
    {
      "cell_type": "markdown",
      "source": [
        "### Calculating tf-idf scores\n",
        "Calculating tf-idf scores for each unique token in the dataset and creating frequency chart for each utterance in the dataset."
      ],
      "metadata": {
        "id": "AxKJJZn8XBaP"
      }
    },
    {
      "cell_type": "code",
      "source": [
        "# instantiate the vectorizer object\n",
        "vectorizer = TfidfVectorizer(stop_words= 'english')\n",
        "# convert the documents into a matrix\n",
        "X_train_vec = vectorizer.fit_transform(X_train)\n",
        "X_test_vec  = vectorizer.transform(X_test)\n",
        "X_train_vec, X_test_vec"
      ],
      "metadata": {
        "ExecuteTime": {
          "end_time": "2022-08-19T12:15:33.399365Z",
          "start_time": "2022-08-19T12:15:33.345114Z"
        },
        "id": "Ut2qdu8HXBaP",
        "outputId": "f1a62af5-5b7e-44e6-f26c-6b9cfae12525",
        "execution": {
          "iopub.status.busy": "2022-10-16T03:05:31.883271Z",
          "iopub.execute_input": "2022-10-16T03:05:31.884333Z",
          "iopub.status.idle": "2022-10-16T03:05:32.043208Z",
          "shell.execute_reply.started": "2022-10-16T03:05:31.884300Z",
          "shell.execute_reply": "2022-10-16T03:05:32.042105Z"
        },
        "trusted": true
      },
      "execution_count": null,
      "outputs": [
        {
          "execution_count": 18,
          "output_type": "execute_result",
          "data": {
            "text/plain": "(<750x5985 sparse matrix of type '<class 'numpy.float64'>'\n \twith 40191 stored elements in Compressed Sparse Row format>,\n <250x5985 sparse matrix of type '<class 'numpy.float64'>'\n \twith 12470 stored elements in Compressed Sparse Row format>)"
          },
          "metadata": {}
        }
      ]
    },
    {
      "cell_type": "markdown",
      "source": [
        "# Feature Selection\n",
        "\n",
        "**SelectKBest** Select features according to the k highest scores.\n",
        "\n",
        "**Chi-square test** measures dependence between stochastic variables, so using this function “weeds out” the features that are the most likely to be independent of class and therefore irrelevant for classification.\n",
        "\n",
        "Ref: https://scikit-learn.org/stable/modules/generated/sklearn.feature_selection.SelectKBest.html\n",
        "\n",
        "Ref: https://scikit-learn.org/stable/modules/generated/sklearn.feature_selection.chi2.html#sklearn.feature_selection.chi2\n",
        "\n"
      ],
      "metadata": {
        "id": "XnG6cE6GXBaT"
      }
    },
    {
      "cell_type": "code",
      "source": [
        "from sklearn.feature_selection import SelectKBest, chi2\n",
        "\n",
        "n_features=100\n",
        "\n",
        "ch2 = SelectKBest(chi2, k=n_features)\n",
        "X_train_sp = ch2.fit_transform(X_train_vec, y_train)\n",
        "X_test_sp  = ch2.transform(X_test_vec)\n",
        "\n",
        "X_train_sp, X_test_sp"
      ],
      "metadata": {
        "ExecuteTime": {
          "end_time": "2022-08-19T12:15:34.583575Z",
          "start_time": "2022-08-19T12:15:34.576574Z"
        },
        "id": "9eZdPs2fXBaU",
        "outputId": "2db6881f-b2bb-49c5-eb02-f8c2765a2295",
        "execution": {
          "iopub.status.busy": "2022-10-16T03:05:32.044482Z",
          "iopub.execute_input": "2022-10-16T03:05:32.044851Z",
          "iopub.status.idle": "2022-10-16T03:05:32.075411Z",
          "shell.execute_reply.started": "2022-10-16T03:05:32.044818Z",
          "shell.execute_reply": "2022-10-16T03:05:32.074165Z"
        },
        "trusted": true
      },
      "execution_count": null,
      "outputs": [
        {
          "execution_count": 19,
          "output_type": "execute_result",
          "data": {
            "text/plain": "(<750x100 sparse matrix of type '<class 'numpy.float64'>'\n \twith 2446 stored elements in Compressed Sparse Row format>,\n <250x100 sparse matrix of type '<class 'numpy.float64'>'\n \twith 817 stored elements in Compressed Sparse Row format>)"
          },
          "metadata": {}
        }
      ]
    },
    {
      "cell_type": "code",
      "source": [
        "# Converting the sparse matrix to a dense one to visualize it.\n",
        "\n",
        "cols = list(range(n_features))\n",
        "\n",
        "X_train_dense = pd.DataFrame(data=X_train_sp.toarray(), columns=cols)\n",
        "X_test_dense  = pd.DataFrame(data=X_test_sp.toarray(), columns=cols)\n",
        "print(X_train_dense.shape, X_test_dense.shape)\n",
        "X_train_dense"
      ],
      "metadata": {
        "ExecuteTime": {
          "end_time": "2022-08-19T12:15:38.000592Z",
          "start_time": "2022-08-19T12:15:37.966585Z"
        },
        "execution": {
          "iopub.status.busy": "2022-10-16T03:05:32.077100Z",
          "iopub.execute_input": "2022-10-16T03:05:32.077995Z",
          "iopub.status.idle": "2022-10-16T03:05:32.128275Z",
          "shell.execute_reply.started": "2022-10-16T03:05:32.077960Z",
          "shell.execute_reply": "2022-10-16T03:05:32.127077Z"
        },
        "trusted": true,
        "id": "R5Vbvv-VEI1Z",
        "outputId": "a8c93fed-d29e-48f9-f27c-b1a0b4e7cfd1"
      },
      "execution_count": null,
      "outputs": [
        {
          "name": "stdout",
          "text": "(750, 100) (250, 100)\n",
          "output_type": "stream"
        },
        {
          "execution_count": 20,
          "output_type": "execute_result",
          "data": {
            "text/plain": "      0    1    2    3    4    5    6    7    8         9   ...   90   91  \\\n0    0.0  0.0  0.0  0.0  0.0  0.0  0.0  0.0  0.0  0.084352  ...  0.0  0.0   \n1    0.0  0.0  0.0  0.0  0.0  0.0  0.0  0.0  0.0  0.000000  ...  0.0  0.0   \n2    0.0  0.0  0.0  0.0  0.0  0.0  0.0  0.0  0.0  0.000000  ...  0.0  0.0   \n3    0.0  0.0  0.0  0.0  0.0  0.0  0.0  0.0  0.0  0.000000  ...  0.0  0.0   \n4    0.0  0.0  0.0  0.0  0.0  0.0  0.0  0.0  0.0  0.000000  ...  0.0  0.0   \n..   ...  ...  ...  ...  ...  ...  ...  ...  ...       ...  ...  ...  ...   \n745  0.0  0.0  0.0  0.0  0.0  0.0  0.0  0.0  0.0  0.000000  ...  0.0  0.0   \n746  0.0  0.0  0.0  0.0  0.0  0.0  0.0  0.0  0.0  0.000000  ...  0.0  0.0   \n747  0.0  0.0  0.0  0.0  0.0  0.0  0.0  0.0  0.0  0.000000  ...  0.0  0.0   \n748  0.0  0.0  0.0  0.0  0.0  0.0  0.0  0.0  0.0  0.000000  ...  0.0  0.0   \n749  0.0  0.0  0.0  0.0  0.0  0.0  0.0  0.0  0.0  0.000000  ...  0.0  0.0   \n\n      92   93   94   95   96   97   98   99  \n0    0.0  0.0  0.0  0.0  0.0  0.0  0.0  0.0  \n1    0.0  0.0  0.0  0.0  0.0  0.0  0.0  0.0  \n2    0.0  0.0  0.0  0.0  0.0  0.0  0.0  0.0  \n3    0.0  0.0  0.0  0.0  0.0  0.0  0.0  0.0  \n4    0.0  0.0  0.0  0.0  0.0  0.0  0.0  0.0  \n..   ...  ...  ...  ...  ...  ...  ...  ...  \n745  0.0  0.0  0.0  0.0  0.0  0.0  0.0  0.0  \n746  0.0  0.0  0.0  0.0  0.0  0.0  0.0  0.0  \n747  0.0  0.0  0.0  0.0  0.0  0.0  0.0  0.0  \n748  0.0  0.0  0.0  0.0  0.0  0.0  0.0  0.0  \n749  0.0  0.0  0.0  0.0  0.0  0.0  0.0  0.0  \n\n[750 rows x 100 columns]",
            "text/html": "<div>\n<style scoped>\n    .dataframe tbody tr th:only-of-type {\n        vertical-align: middle;\n    }\n\n    .dataframe tbody tr th {\n        vertical-align: top;\n    }\n\n    .dataframe thead th {\n        text-align: right;\n    }\n</style>\n<table border=\"1\" class=\"dataframe\">\n  <thead>\n    <tr style=\"text-align: right;\">\n      <th></th>\n      <th>0</th>\n      <th>1</th>\n      <th>2</th>\n      <th>3</th>\n      <th>4</th>\n      <th>5</th>\n      <th>6</th>\n      <th>7</th>\n      <th>8</th>\n      <th>9</th>\n      <th>...</th>\n      <th>90</th>\n      <th>91</th>\n      <th>92</th>\n      <th>93</th>\n      <th>94</th>\n      <th>95</th>\n      <th>96</th>\n      <th>97</th>\n      <th>98</th>\n      <th>99</th>\n    </tr>\n  </thead>\n  <tbody>\n    <tr>\n      <th>0</th>\n      <td>0.0</td>\n      <td>0.0</td>\n      <td>0.0</td>\n      <td>0.0</td>\n      <td>0.0</td>\n      <td>0.0</td>\n      <td>0.0</td>\n      <td>0.0</td>\n      <td>0.0</td>\n      <td>0.084352</td>\n      <td>...</td>\n      <td>0.0</td>\n      <td>0.0</td>\n      <td>0.0</td>\n      <td>0.0</td>\n      <td>0.0</td>\n      <td>0.0</td>\n      <td>0.0</td>\n      <td>0.0</td>\n      <td>0.0</td>\n      <td>0.0</td>\n    </tr>\n    <tr>\n      <th>1</th>\n      <td>0.0</td>\n      <td>0.0</td>\n      <td>0.0</td>\n      <td>0.0</td>\n      <td>0.0</td>\n      <td>0.0</td>\n      <td>0.0</td>\n      <td>0.0</td>\n      <td>0.0</td>\n      <td>0.000000</td>\n      <td>...</td>\n      <td>0.0</td>\n      <td>0.0</td>\n      <td>0.0</td>\n      <td>0.0</td>\n      <td>0.0</td>\n      <td>0.0</td>\n      <td>0.0</td>\n      <td>0.0</td>\n      <td>0.0</td>\n      <td>0.0</td>\n    </tr>\n    <tr>\n      <th>2</th>\n      <td>0.0</td>\n      <td>0.0</td>\n      <td>0.0</td>\n      <td>0.0</td>\n      <td>0.0</td>\n      <td>0.0</td>\n      <td>0.0</td>\n      <td>0.0</td>\n      <td>0.0</td>\n      <td>0.000000</td>\n      <td>...</td>\n      <td>0.0</td>\n      <td>0.0</td>\n      <td>0.0</td>\n      <td>0.0</td>\n      <td>0.0</td>\n      <td>0.0</td>\n      <td>0.0</td>\n      <td>0.0</td>\n      <td>0.0</td>\n      <td>0.0</td>\n    </tr>\n    <tr>\n      <th>3</th>\n      <td>0.0</td>\n      <td>0.0</td>\n      <td>0.0</td>\n      <td>0.0</td>\n      <td>0.0</td>\n      <td>0.0</td>\n      <td>0.0</td>\n      <td>0.0</td>\n      <td>0.0</td>\n      <td>0.000000</td>\n      <td>...</td>\n      <td>0.0</td>\n      <td>0.0</td>\n      <td>0.0</td>\n      <td>0.0</td>\n      <td>0.0</td>\n      <td>0.0</td>\n      <td>0.0</td>\n      <td>0.0</td>\n      <td>0.0</td>\n      <td>0.0</td>\n    </tr>\n    <tr>\n      <th>4</th>\n      <td>0.0</td>\n      <td>0.0</td>\n      <td>0.0</td>\n      <td>0.0</td>\n      <td>0.0</td>\n      <td>0.0</td>\n      <td>0.0</td>\n      <td>0.0</td>\n      <td>0.0</td>\n      <td>0.000000</td>\n      <td>...</td>\n      <td>0.0</td>\n      <td>0.0</td>\n      <td>0.0</td>\n      <td>0.0</td>\n      <td>0.0</td>\n      <td>0.0</td>\n      <td>0.0</td>\n      <td>0.0</td>\n      <td>0.0</td>\n      <td>0.0</td>\n    </tr>\n    <tr>\n      <th>...</th>\n      <td>...</td>\n      <td>...</td>\n      <td>...</td>\n      <td>...</td>\n      <td>...</td>\n      <td>...</td>\n      <td>...</td>\n      <td>...</td>\n      <td>...</td>\n      <td>...</td>\n      <td>...</td>\n      <td>...</td>\n      <td>...</td>\n      <td>...</td>\n      <td>...</td>\n      <td>...</td>\n      <td>...</td>\n      <td>...</td>\n      <td>...</td>\n      <td>...</td>\n      <td>...</td>\n    </tr>\n    <tr>\n      <th>745</th>\n      <td>0.0</td>\n      <td>0.0</td>\n      <td>0.0</td>\n      <td>0.0</td>\n      <td>0.0</td>\n      <td>0.0</td>\n      <td>0.0</td>\n      <td>0.0</td>\n      <td>0.0</td>\n      <td>0.000000</td>\n      <td>...</td>\n      <td>0.0</td>\n      <td>0.0</td>\n      <td>0.0</td>\n      <td>0.0</td>\n      <td>0.0</td>\n      <td>0.0</td>\n      <td>0.0</td>\n      <td>0.0</td>\n      <td>0.0</td>\n      <td>0.0</td>\n    </tr>\n    <tr>\n      <th>746</th>\n      <td>0.0</td>\n      <td>0.0</td>\n      <td>0.0</td>\n      <td>0.0</td>\n      <td>0.0</td>\n      <td>0.0</td>\n      <td>0.0</td>\n      <td>0.0</td>\n      <td>0.0</td>\n      <td>0.000000</td>\n      <td>...</td>\n      <td>0.0</td>\n      <td>0.0</td>\n      <td>0.0</td>\n      <td>0.0</td>\n      <td>0.0</td>\n      <td>0.0</td>\n      <td>0.0</td>\n      <td>0.0</td>\n      <td>0.0</td>\n      <td>0.0</td>\n    </tr>\n    <tr>\n      <th>747</th>\n      <td>0.0</td>\n      <td>0.0</td>\n      <td>0.0</td>\n      <td>0.0</td>\n      <td>0.0</td>\n      <td>0.0</td>\n      <td>0.0</td>\n      <td>0.0</td>\n      <td>0.0</td>\n      <td>0.000000</td>\n      <td>...</td>\n      <td>0.0</td>\n      <td>0.0</td>\n      <td>0.0</td>\n      <td>0.0</td>\n      <td>0.0</td>\n      <td>0.0</td>\n      <td>0.0</td>\n      <td>0.0</td>\n      <td>0.0</td>\n      <td>0.0</td>\n    </tr>\n    <tr>\n      <th>748</th>\n      <td>0.0</td>\n      <td>0.0</td>\n      <td>0.0</td>\n      <td>0.0</td>\n      <td>0.0</td>\n      <td>0.0</td>\n      <td>0.0</td>\n      <td>0.0</td>\n      <td>0.0</td>\n      <td>0.000000</td>\n      <td>...</td>\n      <td>0.0</td>\n      <td>0.0</td>\n      <td>0.0</td>\n      <td>0.0</td>\n      <td>0.0</td>\n      <td>0.0</td>\n      <td>0.0</td>\n      <td>0.0</td>\n      <td>0.0</td>\n      <td>0.0</td>\n    </tr>\n    <tr>\n      <th>749</th>\n      <td>0.0</td>\n      <td>0.0</td>\n      <td>0.0</td>\n      <td>0.0</td>\n      <td>0.0</td>\n      <td>0.0</td>\n      <td>0.0</td>\n      <td>0.0</td>\n      <td>0.0</td>\n      <td>0.000000</td>\n      <td>...</td>\n      <td>0.0</td>\n      <td>0.0</td>\n      <td>0.0</td>\n      <td>0.0</td>\n      <td>0.0</td>\n      <td>0.0</td>\n      <td>0.0</td>\n      <td>0.0</td>\n      <td>0.0</td>\n      <td>0.0</td>\n    </tr>\n  </tbody>\n</table>\n<p>750 rows × 100 columns</p>\n</div>"
          },
          "metadata": {}
        }
      ]
    },
    {
      "cell_type": "code",
      "source": [
        "# Now we have train and test data as vectors\n",
        "# Let us also convert the target data appropriately\n",
        "\n",
        "\n",
        "encoder = LabelEncoder()\n",
        "y_train_num  = encoder.fit_transform(y_train)\n",
        "y_test_num   = encoder.transform(y_test)\n",
        "y_train_num.min(), y_train_num.max(), y_test_num.min(), y_test_num.max() # sanity check"
      ],
      "metadata": {
        "ExecuteTime": {
          "end_time": "2022-08-19T12:15:38.602869Z",
          "start_time": "2022-08-19T12:15:38.584856Z"
        },
        "execution": {
          "iopub.status.busy": "2022-10-16T03:05:32.129710Z",
          "iopub.execute_input": "2022-10-16T03:05:32.130048Z",
          "iopub.status.idle": "2022-10-16T03:05:32.139903Z",
          "shell.execute_reply.started": "2022-10-16T03:05:32.130018Z",
          "shell.execute_reply": "2022-10-16T03:05:32.138673Z"
        },
        "trusted": true,
        "id": "XzLTACPCEI1a",
        "outputId": "ad03f38a-a127-4e1e-d858-10cd923cd384"
      },
      "execution_count": null,
      "outputs": [
        {
          "execution_count": 21,
          "output_type": "execute_result",
          "data": {
            "text/plain": "(0, 10, 0, 10)"
          },
          "metadata": {}
        }
      ]
    },
    {
      "cell_type": "code",
      "source": [
        "# What does the target look like, after encoding. Check out the first n datapoints\n",
        "n=5\n",
        "print('Text   Encoding')\n",
        "print('-'*50)\n",
        "for p,q in zip(y_train[:n].values,y_train_num):\n",
        "    print(f'{q}      {p}')"
      ],
      "metadata": {
        "execution": {
          "iopub.status.busy": "2022-10-16T03:05:32.141630Z",
          "iopub.execute_input": "2022-10-16T03:05:32.142033Z",
          "iopub.status.idle": "2022-10-16T03:05:32.161028Z",
          "shell.execute_reply.started": "2022-10-16T03:05:32.141988Z",
          "shell.execute_reply": "2022-10-16T03:05:32.160045Z"
        },
        "trusted": true,
        "id": "r73y3QY0EI1b",
        "outputId": "d089309f-f0d4-4ade-eb8b-85e6b927c7ea"
      },
      "execution_count": null,
      "outputs": [
        {
          "name": "stdout",
          "text": "Text   Encoding\n--------------------------------------------------\n0      Bank account or service\n6      Mortgage\n6      Mortgage\n4      Debt collection\n4      Debt collection\n",
          "output_type": "stream"
        }
      ]
    },
    {
      "cell_type": "code",
      "source": [
        "# Now, if you are fussy and want to see exactly what kind of encoding has happened.\n",
        "mapping = {l: i for i, l in enumerate(encoder.classes_)}\n",
        "mapping"
      ],
      "metadata": {
        "ExecuteTime": {
          "end_time": "2022-08-19T12:15:39.183579Z",
          "start_time": "2022-08-19T12:15:39.168576Z"
        },
        "execution": {
          "iopub.status.busy": "2022-10-16T03:05:32.162548Z",
          "iopub.execute_input": "2022-10-16T03:05:32.163647Z",
          "iopub.status.idle": "2022-10-16T03:05:32.183750Z",
          "shell.execute_reply.started": "2022-10-16T03:05:32.163575Z",
          "shell.execute_reply": "2022-10-16T03:05:32.182671Z"
        },
        "trusted": true,
        "id": "SJRcpj80EI1c",
        "outputId": "151046f7-f991-4664-e31c-bd36bcf67586"
      },
      "execution_count": null,
      "outputs": [
        {
          "execution_count": 23,
          "output_type": "execute_result",
          "data": {
            "text/plain": "{'Bank account or service': 0,\n 'Consumer Loan': 1,\n 'Credit card': 2,\n 'Credit reporting': 3,\n 'Debt collection': 4,\n 'Money transfers': 5,\n 'Mortgage': 6,\n 'Other financial service': 7,\n 'Payday loan': 8,\n 'Prepaid card': 9,\n 'Student loan': 10}"
          },
          "metadata": {}
        }
      ]
    },
    {
      "cell_type": "markdown",
      "source": [
        "# Our data is ready for modelling\n",
        "\n",
        "We want to train a model such that looking at the complaint text, it should be able to determine which category of complaint it deals with."
      ],
      "metadata": {
        "id": "YJW1JFRbEI1c"
      }
    },
    {
      "cell_type": "code",
      "source": [
        "rf_model  = RandomForestClassifier(n_estimators=200, random_state=42, n_jobs = -1)\n",
        "scores = cross_val_score(rf_model,\n",
        "                         X_train_dense,\n",
        "                         y_train_num,\n",
        "                         cv=5,\n",
        "                         n_jobs = -1,\n",
        "                         scoring = 'accuracy')\n",
        "scores.mean()"
      ],
      "metadata": {
        "ExecuteTime": {
          "end_time": "2022-08-19T12:15:42.110998Z",
          "start_time": "2022-08-19T12:15:40.256577Z"
        },
        "execution": {
          "iopub.status.busy": "2022-10-16T03:05:32.185393Z",
          "iopub.execute_input": "2022-10-16T03:05:32.186168Z",
          "iopub.status.idle": "2022-10-16T03:05:36.297093Z",
          "shell.execute_reply.started": "2022-10-16T03:05:32.186131Z",
          "shell.execute_reply": "2022-10-16T03:05:36.295617Z"
        },
        "trusted": true,
        "id": "DJIJREZTEI1d",
        "outputId": "4e25afc6-b3ca-42a7-9e37-06a7fbd69690"
      },
      "execution_count": null,
      "outputs": [
        {
          "name": "stderr",
          "text": "/opt/conda/lib/python3.7/site-packages/sklearn/model_selection/_split.py:680: UserWarning: The least populated class in y has only 2 members, which is less than n_splits=5.\n  UserWarning,\n",
          "output_type": "stream"
        },
        {
          "execution_count": 24,
          "output_type": "execute_result",
          "data": {
            "text/plain": "0.6973333333333332"
          },
          "metadata": {}
        }
      ]
    },
    {
      "cell_type": "code",
      "source": [
        "rf_model.fit(X_train_dense, y_train_num)\n",
        "preds=rf_model.predict(X_test_dense)\n",
        "print('Predictions ready')"
      ],
      "metadata": {
        "ExecuteTime": {
          "end_time": "2022-08-19T12:16:08.075194Z",
          "start_time": "2022-08-19T12:16:07.817135Z"
        },
        "execution": {
          "iopub.status.busy": "2022-10-16T03:05:44.114398Z",
          "iopub.execute_input": "2022-10-16T03:05:44.115162Z",
          "iopub.status.idle": "2022-10-16T03:05:44.827330Z",
          "shell.execute_reply.started": "2022-10-16T03:05:44.115086Z",
          "shell.execute_reply": "2022-10-16T03:05:44.826010Z"
        },
        "trusted": true,
        "id": "tLA8_c4zEI1e",
        "outputId": "f0252ecb-d558-45a1-f1e9-9b8b6661f156"
      },
      "execution_count": null,
      "outputs": [
        {
          "name": "stdout",
          "text": "Predictions ready\n",
          "output_type": "stream"
        }
      ]
    },
    {
      "cell_type": "code",
      "source": [
        "# What does a prediction look like - let's take the first one\n",
        "preds[0]"
      ],
      "metadata": {
        "ExecuteTime": {
          "end_time": "2022-08-19T12:16:20.273882Z",
          "start_time": "2022-08-19T12:16:20.264871Z"
        },
        "execution": {
          "iopub.status.busy": "2022-10-16T03:05:37.017364Z",
          "iopub.execute_input": "2022-10-16T03:05:37.018058Z",
          "iopub.status.idle": "2022-10-16T03:05:37.028874Z",
          "shell.execute_reply.started": "2022-10-16T03:05:37.018002Z",
          "shell.execute_reply": "2022-10-16T03:05:37.027620Z"
        },
        "trusted": true,
        "id": "GBjassi-EI1f",
        "outputId": "d12a2c20-2d8f-4927-eaf3-422d7c773ce4"
      },
      "execution_count": null,
      "outputs": [
        {
          "execution_count": 26,
          "output_type": "execute_result",
          "data": {
            "text/plain": "2"
          },
          "metadata": {}
        }
      ]
    },
    {
      "cell_type": "code",
      "source": [
        "# Let's revert back to the categories we understand\n",
        "preds=encoder.inverse_transform(preds)\n",
        "preds[0]"
      ],
      "metadata": {
        "ExecuteTime": {
          "end_time": "2022-08-19T12:16:08.811361Z",
          "start_time": "2022-08-19T12:16:08.801359Z"
        },
        "execution": {
          "iopub.status.busy": "2022-10-16T03:05:37.032565Z",
          "iopub.execute_input": "2022-10-16T03:05:37.033032Z",
          "iopub.status.idle": "2022-10-16T03:05:37.044814Z",
          "shell.execute_reply.started": "2022-10-16T03:05:37.032985Z",
          "shell.execute_reply": "2022-10-16T03:05:37.043663Z"
        },
        "trusted": true,
        "id": "REGUxuS9EI1f",
        "outputId": "556f4fee-c0db-46a8-bddb-6ba40ebc52ea"
      },
      "execution_count": null,
      "outputs": [
        {
          "execution_count": 27,
          "output_type": "execute_result",
          "data": {
            "text/plain": "'Credit card'"
          },
          "metadata": {}
        }
      ]
    },
    {
      "cell_type": "markdown",
      "source": [
        "# Let's look at the predictions we made"
      ],
      "metadata": {
        "id": "AGADlQnxEI1g"
      }
    },
    {
      "cell_type": "code",
      "source": [
        "report = pd.DataFrame(columns=['Complaint','Actual Product','Prediction'])\n",
        "report['Complaint']      = X_test\n",
        "report['Actual Product'] = y_test\n",
        "report['Prediction']     = preds\n",
        "report"
      ],
      "metadata": {
        "ExecuteTime": {
          "end_time": "2022-08-19T12:16:30.234151Z",
          "start_time": "2022-08-19T12:16:30.216145Z"
        },
        "execution": {
          "iopub.status.busy": "2022-10-16T03:05:37.051642Z",
          "iopub.execute_input": "2022-10-16T03:05:37.053296Z",
          "iopub.status.idle": "2022-10-16T03:05:37.085420Z",
          "shell.execute_reply.started": "2022-10-16T03:05:37.053247Z",
          "shell.execute_reply": "2022-10-16T03:05:37.084113Z"
        },
        "trusted": true,
        "id": "HU-WRNIvEI1g",
        "outputId": "de77565d-4b1c-476b-d595-7c6e11d40ef9"
      },
      "execution_count": null,
      "outputs": [
        {
          "execution_count": 28,
          "output_type": "execute_result",
          "data": {
            "text/plain": "                                             Complaint  \\\n193  I have been with USAA for more than 10 years a...   \n720  paid off debt for XXXX sent me to collection f...   \n462  I made an online payment to Citi Bank on the C...   \n600  I would like help from the CFPB to have Suntru...   \n932  XX/XX/2017 XXXX XXXX XXXX XXXX XXXX XXXX XXXX ...   \n..                                                 ...   \n724  I opened a Citigold checking account with Citi...   \n244  We lived in apartments in 2013. I was 7 months...   \n138  I am filing this complaint because Equifax has...   \n856  I used to live in Campus Habitat Apartments fo...   \n923  Wells Fargo automatically lowered my monthly a...   \n\n              Actual Product               Prediction  \n193              Credit card              Credit card  \n720          Debt collection          Debt collection  \n462              Credit card  Bank account or service  \n600                 Mortgage                 Mortgage  \n932          Debt collection          Debt collection  \n..                       ...                      ...  \n724  Bank account or service                 Mortgage  \n244          Debt collection          Debt collection  \n138         Credit reporting         Credit reporting  \n856          Debt collection          Debt collection  \n923             Student loan                 Mortgage  \n\n[250 rows x 3 columns]",
            "text/html": "<div>\n<style scoped>\n    .dataframe tbody tr th:only-of-type {\n        vertical-align: middle;\n    }\n\n    .dataframe tbody tr th {\n        vertical-align: top;\n    }\n\n    .dataframe thead th {\n        text-align: right;\n    }\n</style>\n<table border=\"1\" class=\"dataframe\">\n  <thead>\n    <tr style=\"text-align: right;\">\n      <th></th>\n      <th>Complaint</th>\n      <th>Actual Product</th>\n      <th>Prediction</th>\n    </tr>\n  </thead>\n  <tbody>\n    <tr>\n      <th>193</th>\n      <td>I have been with USAA for more than 10 years a...</td>\n      <td>Credit card</td>\n      <td>Credit card</td>\n    </tr>\n    <tr>\n      <th>720</th>\n      <td>paid off debt for XXXX sent me to collection f...</td>\n      <td>Debt collection</td>\n      <td>Debt collection</td>\n    </tr>\n    <tr>\n      <th>462</th>\n      <td>I made an online payment to Citi Bank on the C...</td>\n      <td>Credit card</td>\n      <td>Bank account or service</td>\n    </tr>\n    <tr>\n      <th>600</th>\n      <td>I would like help from the CFPB to have Suntru...</td>\n      <td>Mortgage</td>\n      <td>Mortgage</td>\n    </tr>\n    <tr>\n      <th>932</th>\n      <td>XX/XX/2017 XXXX XXXX XXXX XXXX XXXX XXXX XXXX ...</td>\n      <td>Debt collection</td>\n      <td>Debt collection</td>\n    </tr>\n    <tr>\n      <th>...</th>\n      <td>...</td>\n      <td>...</td>\n      <td>...</td>\n    </tr>\n    <tr>\n      <th>724</th>\n      <td>I opened a Citigold checking account with Citi...</td>\n      <td>Bank account or service</td>\n      <td>Mortgage</td>\n    </tr>\n    <tr>\n      <th>244</th>\n      <td>We lived in apartments in 2013. I was 7 months...</td>\n      <td>Debt collection</td>\n      <td>Debt collection</td>\n    </tr>\n    <tr>\n      <th>138</th>\n      <td>I am filing this complaint because Equifax has...</td>\n      <td>Credit reporting</td>\n      <td>Credit reporting</td>\n    </tr>\n    <tr>\n      <th>856</th>\n      <td>I used to live in Campus Habitat Apartments fo...</td>\n      <td>Debt collection</td>\n      <td>Debt collection</td>\n    </tr>\n    <tr>\n      <th>923</th>\n      <td>Wells Fargo automatically lowered my monthly a...</td>\n      <td>Student loan</td>\n      <td>Mortgage</td>\n    </tr>\n  </tbody>\n</table>\n<p>250 rows × 3 columns</p>\n</div>"
          },
          "metadata": {}
        }
      ]
    },
    {
      "cell_type": "code",
      "source": [
        "## How accurate is this model?\n",
        "report['Correct'] = (report['Actual Product'] == report['Prediction']).astype('int')\n",
        "display(report)\n",
        "print(f'Accuracy: {100*report.Correct.sum()/report.Correct.count()} %')"
      ],
      "metadata": {
        "ExecuteTime": {
          "end_time": "2022-08-19T12:16:30.483651Z",
          "start_time": "2022-08-19T12:16:30.472648Z"
        },
        "execution": {
          "iopub.status.busy": "2022-10-16T03:05:37.087353Z",
          "iopub.execute_input": "2022-10-16T03:05:37.088121Z",
          "iopub.status.idle": "2022-10-16T03:05:37.113175Z",
          "shell.execute_reply.started": "2022-10-16T03:05:37.088074Z",
          "shell.execute_reply": "2022-10-16T03:05:37.112069Z"
        },
        "trusted": true,
        "id": "uwjj9Y8YEI1h",
        "outputId": "18b4ee83-b408-43a3-bba7-ba063c48c042"
      },
      "execution_count": null,
      "outputs": [
        {
          "output_type": "display_data",
          "data": {
            "text/plain": "                                             Complaint  \\\n193  I have been with USAA for more than 10 years a...   \n720  paid off debt for XXXX sent me to collection f...   \n462  I made an online payment to Citi Bank on the C...   \n600  I would like help from the CFPB to have Suntru...   \n932  XX/XX/2017 XXXX XXXX XXXX XXXX XXXX XXXX XXXX ...   \n..                                                 ...   \n724  I opened a Citigold checking account with Citi...   \n244  We lived in apartments in 2013. I was 7 months...   \n138  I am filing this complaint because Equifax has...   \n856  I used to live in Campus Habitat Apartments fo...   \n923  Wells Fargo automatically lowered my monthly a...   \n\n              Actual Product               Prediction  Correct  \n193              Credit card              Credit card        1  \n720          Debt collection          Debt collection        1  \n462              Credit card  Bank account or service        0  \n600                 Mortgage                 Mortgage        1  \n932          Debt collection          Debt collection        1  \n..                       ...                      ...      ...  \n724  Bank account or service                 Mortgage        0  \n244          Debt collection          Debt collection        1  \n138         Credit reporting         Credit reporting        1  \n856          Debt collection          Debt collection        1  \n923             Student loan                 Mortgage        0  \n\n[250 rows x 4 columns]",
            "text/html": "<div>\n<style scoped>\n    .dataframe tbody tr th:only-of-type {\n        vertical-align: middle;\n    }\n\n    .dataframe tbody tr th {\n        vertical-align: top;\n    }\n\n    .dataframe thead th {\n        text-align: right;\n    }\n</style>\n<table border=\"1\" class=\"dataframe\">\n  <thead>\n    <tr style=\"text-align: right;\">\n      <th></th>\n      <th>Complaint</th>\n      <th>Actual Product</th>\n      <th>Prediction</th>\n      <th>Correct</th>\n    </tr>\n  </thead>\n  <tbody>\n    <tr>\n      <th>193</th>\n      <td>I have been with USAA for more than 10 years a...</td>\n      <td>Credit card</td>\n      <td>Credit card</td>\n      <td>1</td>\n    </tr>\n    <tr>\n      <th>720</th>\n      <td>paid off debt for XXXX sent me to collection f...</td>\n      <td>Debt collection</td>\n      <td>Debt collection</td>\n      <td>1</td>\n    </tr>\n    <tr>\n      <th>462</th>\n      <td>I made an online payment to Citi Bank on the C...</td>\n      <td>Credit card</td>\n      <td>Bank account or service</td>\n      <td>0</td>\n    </tr>\n    <tr>\n      <th>600</th>\n      <td>I would like help from the CFPB to have Suntru...</td>\n      <td>Mortgage</td>\n      <td>Mortgage</td>\n      <td>1</td>\n    </tr>\n    <tr>\n      <th>932</th>\n      <td>XX/XX/2017 XXXX XXXX XXXX XXXX XXXX XXXX XXXX ...</td>\n      <td>Debt collection</td>\n      <td>Debt collection</td>\n      <td>1</td>\n    </tr>\n    <tr>\n      <th>...</th>\n      <td>...</td>\n      <td>...</td>\n      <td>...</td>\n      <td>...</td>\n    </tr>\n    <tr>\n      <th>724</th>\n      <td>I opened a Citigold checking account with Citi...</td>\n      <td>Bank account or service</td>\n      <td>Mortgage</td>\n      <td>0</td>\n    </tr>\n    <tr>\n      <th>244</th>\n      <td>We lived in apartments in 2013. I was 7 months...</td>\n      <td>Debt collection</td>\n      <td>Debt collection</td>\n      <td>1</td>\n    </tr>\n    <tr>\n      <th>138</th>\n      <td>I am filing this complaint because Equifax has...</td>\n      <td>Credit reporting</td>\n      <td>Credit reporting</td>\n      <td>1</td>\n    </tr>\n    <tr>\n      <th>856</th>\n      <td>I used to live in Campus Habitat Apartments fo...</td>\n      <td>Debt collection</td>\n      <td>Debt collection</td>\n      <td>1</td>\n    </tr>\n    <tr>\n      <th>923</th>\n      <td>Wells Fargo automatically lowered my monthly a...</td>\n      <td>Student loan</td>\n      <td>Mortgage</td>\n      <td>0</td>\n    </tr>\n  </tbody>\n</table>\n<p>250 rows × 4 columns</p>\n</div>"
          },
          "metadata": {}
        },
        {
          "name": "stdout",
          "text": "Accuracy: 74.8 %\n",
          "output_type": "stream"
        }
      ]
    },
    {
      "cell_type": "code",
      "source": [
        "# Another way to crunch numbers\n",
        "r = pd.DataFrame()\n",
        "r['Correctly Predicted'] = report.groupby('Actual Product').sum()['Correct']\n",
        "r['Overall Predicted']   = report.groupby('Prediction').count()['Correct']\n",
        "r['Actuals']             = report.groupby('Actual Product').count()['Correct']\n",
        "r"
      ],
      "metadata": {
        "execution": {
          "iopub.status.busy": "2022-10-16T03:05:37.115122Z",
          "iopub.execute_input": "2022-10-16T03:05:37.115894Z",
          "iopub.status.idle": "2022-10-16T03:05:37.150797Z",
          "shell.execute_reply.started": "2022-10-16T03:05:37.115847Z",
          "shell.execute_reply": "2022-10-16T03:05:37.149580Z"
        },
        "trusted": true,
        "id": "faCMvjhbEI1i",
        "outputId": "9628dcdb-4490-4d94-ad56-f5498afd0e98"
      },
      "execution_count": null,
      "outputs": [
        {
          "execution_count": 30,
          "output_type": "execute_result",
          "data": {
            "text/plain": "                         Correctly Predicted  Overall Predicted  Actuals\nActual Product                                                          \nBank account or service                   14               19.0       24\nConsumer Loan                              5               12.0       14\nCredit card                               24               35.0       31\nCredit reporting                          39               48.0       48\nDebt collection                           53               72.0       63\nMoney transfers                            0                NaN        2\nMortgage                                  42               54.0       49\nPayday loan                                0                NaN        3\nPrepaid card                               0                NaN        2\nStudent loan                              10               10.0       14",
            "text/html": "<div>\n<style scoped>\n    .dataframe tbody tr th:only-of-type {\n        vertical-align: middle;\n    }\n\n    .dataframe tbody tr th {\n        vertical-align: top;\n    }\n\n    .dataframe thead th {\n        text-align: right;\n    }\n</style>\n<table border=\"1\" class=\"dataframe\">\n  <thead>\n    <tr style=\"text-align: right;\">\n      <th></th>\n      <th>Correctly Predicted</th>\n      <th>Overall Predicted</th>\n      <th>Actuals</th>\n    </tr>\n    <tr>\n      <th>Actual Product</th>\n      <th></th>\n      <th></th>\n      <th></th>\n    </tr>\n  </thead>\n  <tbody>\n    <tr>\n      <th>Bank account or service</th>\n      <td>14</td>\n      <td>19.0</td>\n      <td>24</td>\n    </tr>\n    <tr>\n      <th>Consumer Loan</th>\n      <td>5</td>\n      <td>12.0</td>\n      <td>14</td>\n    </tr>\n    <tr>\n      <th>Credit card</th>\n      <td>24</td>\n      <td>35.0</td>\n      <td>31</td>\n    </tr>\n    <tr>\n      <th>Credit reporting</th>\n      <td>39</td>\n      <td>48.0</td>\n      <td>48</td>\n    </tr>\n    <tr>\n      <th>Debt collection</th>\n      <td>53</td>\n      <td>72.0</td>\n      <td>63</td>\n    </tr>\n    <tr>\n      <th>Money transfers</th>\n      <td>0</td>\n      <td>NaN</td>\n      <td>2</td>\n    </tr>\n    <tr>\n      <th>Mortgage</th>\n      <td>42</td>\n      <td>54.0</td>\n      <td>49</td>\n    </tr>\n    <tr>\n      <th>Payday loan</th>\n      <td>0</td>\n      <td>NaN</td>\n      <td>3</td>\n    </tr>\n    <tr>\n      <th>Prepaid card</th>\n      <td>0</td>\n      <td>NaN</td>\n      <td>2</td>\n    </tr>\n    <tr>\n      <th>Student loan</th>\n      <td>10</td>\n      <td>10.0</td>\n      <td>14</td>\n    </tr>\n  </tbody>\n</table>\n</div>"
          },
          "metadata": {}
        }
      ]
    },
    {
      "cell_type": "code",
      "source": [
        "# Or you could do it in a more mundane way\n",
        "print(rf_model.score(X_test_dense, y_test_num))"
      ],
      "metadata": {
        "ExecuteTime": {
          "end_time": "2022-08-19T12:16:31.087856Z",
          "start_time": "2022-08-19T12:16:31.041847Z"
        },
        "execution": {
          "iopub.status.busy": "2022-10-16T03:05:37.152684Z",
          "iopub.execute_input": "2022-10-16T03:05:37.153417Z",
          "iopub.status.idle": "2022-10-16T03:05:37.267917Z",
          "shell.execute_reply.started": "2022-10-16T03:05:37.153372Z",
          "shell.execute_reply": "2022-10-16T03:05:37.266518Z"
        },
        "trusted": true,
        "id": "U4lsHs8BEI2K",
        "outputId": "9c8a7120-e48c-42f2-fff1-c918756a80fc"
      },
      "execution_count": null,
      "outputs": [
        {
          "name": "stdout",
          "text": "0.748\n",
          "output_type": "stream"
        }
      ]
    },
    {
      "cell_type": "markdown",
      "source": [
        "## It is definiteloy easier to look at a confusion matrix"
      ],
      "metadata": {
        "id": "bJrvg8gREI2L"
      }
    },
    {
      "cell_type": "code",
      "source": [
        "from sklearn.metrics import confusion_matrix\n",
        "def plot_confusion_matrix(cm,labels,size=10, rotate_labels=False):\n",
        "    '''\n",
        "    This function receives a confusion matrix object and plots it out using seaborn\n",
        "    '''\n",
        "    import seaborn as sns\n",
        "    import matplotlib.pyplot as plt\n",
        "    font_specs = {\"size\": 20, 'fontweight':'bold'}\n",
        "    title_specs= {\"size\": 16, 'fontweight':'bold'}\n",
        "    figsize = size\n",
        "    fig, ax = plt.subplots(figsize = (figsize,figsize), facecolor = '#ebebeb', frameon = True, edgecolor = 'black')\n",
        "    ax = sns.heatmap(cm,annot=True, cbar = False, cmap = 'Blues',linewidths=5,\n",
        "                  linecolor='#ebebeb', annot_kws=font_specs, fmt='g')\n",
        "    plt.xlabel('Predicted', fontdict = font_specs, labelpad=-(figsize*65))\n",
        "    plt.ylabel('Actual', fontdict = font_specs, labelpad=15)\n",
        "    ax.xaxis.set_ticklabels(labels)\n",
        "    ax.yaxis.set_ticklabels(labels)\n",
        "    if rotate_labels:\n",
        "        ax.set_xticklabels(labels, rotation=90, ha='center')\n",
        "        ax.set_yticklabels(labels, rotation=0, ha='right')\n",
        "\n",
        "    ax.tick_params(labelbottom=False, labeltop=True, labelsize = 12, colors ='#151736' )\n",
        "    plt.title('CONFUSION MATRIX',loc = 'right', pad = figsize*4 , fontdict = title_specs)\n",
        "    plt.show()\n",
        "print('custom function defined')"
      ],
      "metadata": {
        "execution": {
          "iopub.status.busy": "2022-10-16T03:05:37.269405Z",
          "iopub.execute_input": "2022-10-16T03:05:37.269996Z",
          "iopub.status.idle": "2022-10-16T03:05:37.290076Z",
          "shell.execute_reply.started": "2022-10-16T03:05:37.269938Z",
          "shell.execute_reply": "2022-10-16T03:05:37.288698Z"
        },
        "trusted": true,
        "id": "Ol0V4Z7OEI2L",
        "outputId": "33a53867-7763-43da-fa81-e6a81ad05b82"
      },
      "execution_count": null,
      "outputs": [
        {
          "name": "stdout",
          "text": "custom function defined\n",
          "output_type": "stream"
        }
      ]
    },
    {
      "cell_type": "code",
      "source": [
        "cm = confusion_matrix(y_test, preds, labels=encoder.classes_)\n",
        "plot_confusion_matrix(cm=cm,labels=encoder.classes_, size=12, rotate_labels=True)"
      ],
      "metadata": {
        "execution": {
          "iopub.status.busy": "2022-10-16T03:05:37.292073Z",
          "iopub.execute_input": "2022-10-16T03:05:37.294409Z",
          "iopub.status.idle": "2022-10-16T03:05:38.522288Z",
          "shell.execute_reply.started": "2022-10-16T03:05:37.294359Z",
          "shell.execute_reply": "2022-10-16T03:05:38.521035Z"
        },
        "trusted": true,
        "id": "F63p9VgEEI2M",
        "outputId": "af116fa3-bfb4-4f58-a83d-da6444c6773c"
      },
      "execution_count": null,
      "outputs": [
        {
          "output_type": "display_data",
          "data": {
            "text/plain": "<Figure size 864x864 with 1 Axes>",
            "image/png": "[encoded data removed]"
          },
          "metadata": {}
        }
      ]
    },
    {
      "cell_type": "markdown",
      "source": [
        "The present model is very basic and shows the information captured by the TF-IDF representation of textual data. You can always take more data than just the 1000 rows and see where this goes."
      ],
      "metadata": {
        "id": "G91T06XpEI2N"
      }
    },
    {
      "cell_type": "markdown",
      "source": [
        "#Thank You\n",
        "<p><div style=\"text-align: left; font-family:mistral; font-size:2em\"><b> - Chintha Pavan </b></div></p><hr>"
      ],
      "metadata": {
        "id": "JWUeN63IEI2O"
      }
    }
  ]
}